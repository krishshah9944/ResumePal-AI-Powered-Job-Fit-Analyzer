{
 "cells": [
  {
   "cell_type": "code",
   "execution_count": 1,
   "metadata": {},
   "outputs": [],
   "source": [
    "import os \n",
    "from dotenv import load_dotenv\n",
    "load_dotenv()\n",
    "os.environ[\"GOOGLE_API_KEY\"]=os.getenv(\"GOOGLE_API_KEY\")"
   ]
  },
  {
   "cell_type": "code",
   "execution_count": 4,
   "metadata": {},
   "outputs": [],
   "source": [
    "from langchain_community.document_loaders import PyPDFLoader\n",
    "loader=PyPDFLoader('KrishShahResume.pdf')\n",
    "resume=loader.load()\n"
   ]
  },
  {
   "cell_type": "code",
   "execution_count": 3,
   "metadata": {},
   "outputs": [
    {
     "name": "stderr",
     "output_type": "stream",
     "text": [
      "/Users/krishshah/Langchain/Langchain/lib/python3.12/site-packages/tqdm/auto.py:21: TqdmWarning: IProgress not found. Please update jupyter and ipywidgets. See https://ipywidgets.readthedocs.io/en/stable/user_install.html\n",
      "  from .autonotebook import tqdm as notebook_tqdm\n"
     ]
    }
   ],
   "source": [
    "from langchain_google_genai import ChatGoogleGenerativeAI\n",
    "import google.generativeai as genai\n",
    "genai.configure(api_key=os.getenv(\"GOOGLE_API_KEY\"))\n",
    "llm=ChatGoogleGenerativeAI(model='gemini-pro')"
   ]
  },
  {
   "cell_type": "code",
   "execution_count": 8,
   "metadata": {},
   "outputs": [],
   "source": [
    "job_description='''About the job\n",
    "About Us:\n",
    "\n",
    "At micro1, we’re all about connecting skilled remote professionals with some of the best companies in Silicon Valley. Our mission is to offer a stable, competitive income, along with access to top industry opportunities—all in a flexible work setting with a range of great benefits. We’re here to help you grow in your career. We're proud to work with trusted partners such as Deel, Immutable, O’Gara, and LegalSoft.\n",
    "\n",
    "\n",
    "\n",
    "What We Offer:\n",
    "\n",
    "Work from anywhere\n",
    "Healthcare reimbursement\n",
    "Wi-Fi Reimbursement\n",
    "Unlimited Learning: Access to Udemy courses, books, and everything you need to keep growing\n",
    "And So Much More: We’re not just about work—we’re about creating an environment where you’ll love to be!\n",
    "\n",
    "\n",
    "Role Overview:\n",
    "\n",
    "We are seeking a skilled AI/ML Engineer to join our innovative team. In this role, you will design, develop, and deploy machine learning models and systems that drive our products and enhance user experiences. You will work closely with cross-functional teams to implement cutting-edge AI solutions, including recommendation engines and large language models.\n",
    "\n",
    "\n",
    "\n",
    "Key Responsibilities:\n",
    "\n",
    "Design and implement robust machine learning models and algorithms, focusing on recommendation systems.\n",
    "Conduct data analysis to identify trends, insights, and opportunities for model improvement.\n",
    "Collaborate with data scientists and software engineers to build and integrate end-to-end machine learning systems.\n",
    "Optimize and fine-tune models for performance and scalability, ensuring seamless deployment.\n",
    "Work with large datasets using SQL and Postgres to support model training and evaluation.\n",
    "Implement and refine prompt engineering techniques for large language models (LLMs).\n",
    "Stay current with advancements in AI/ML technologies, particularly in core ML algorithms like clustering and community detection.\n",
    "Monitor model performance, conduct regular evaluations, and retrain models as needed.\n",
    "Document processes, model performance metrics, and technical specifications.\n",
    "\n",
    "\n",
    "Required Skills and Qualifications:\n",
    "\n",
    "Bachelors or Master’s degree in Computer Science, Data Science, or a related field.\n",
    "Strong expertise in Python and experience with machine learning libraries (e.g., TensorFlow, PyTorch, Scikit-learn).\n",
    "Proven experience with SQL and Postgres for data manipulation and analysis.\n",
    "Demonstrated experience building and deploying recommendation engines.\n",
    "Solid understanding of core machine learning algorithms, including clustering and community detection.\n",
    "Prior experience in building end-to-end machine learning systems.\n",
    "Familiarity with prompt engineering and working with large language models (LLMs).\n",
    "Proficiency with version control systems like Git.\n",
    "Experience with cloud platforms (e.g., AWS) for model deployment and data storage.\n",
    "Strong analytical and problem-solving skills.\n",
    "Excellent communication and collaboration abilities.\n",
    "\n",
    "\n",
    "Preferred Qualifications:\n",
    "\n",
    "Experience with Graph DB (specifically Neo4J and cypher query language)\n",
    "Knowledge of large-scale data handling and optimization techniques.\n",
    "Experience with Improving models with RLHF\n",
    "\n",
    "'''"
   ]
  },
  {
   "cell_type": "code",
   "execution_count": 6,
   "metadata": {},
   "outputs": [],
   "source": [
    "from langchain.prompts import PromptTemplate\n",
    "\n",
    "prompt='''You are an expert in resume analysis and job matching. Your role is to evaluate the provided job description and resume for alignment and provide detailed feedback, including suggestions for improvement.  \n",
    "\n",
    "### Input:  \n",
    "1. **Job Description:**  \n",
    "{job_description}  \n",
    "\n",
    "2. **Resume:**  \n",
    "{resume}  \n",
    "\n",
    "### Output:  \n",
    "Provide the following:  \n",
    "1. **Percentage Match:**  \n",
    "   - Match percentage based on skills, experience, and keywords.  \n",
    "\n",
    "2. **Relevant Skills:**  \n",
    "   - List skills present in both the job description and resume.  \n",
    "\n",
    "3. **Missing Keywords or Skills:**  \n",
    "   - Identify missing skills/keywords and rank their importance.  \n",
    "\n",
    "4. **Role Alignment:**  \n",
    "   - How well does the applicant’s experience align with the job responsibilities?  \n",
    "\n",
    "5. **Experience Matching:**  \n",
    "   - Compare the required years of experience to the applicant’s relevant experience.  \n",
    "\n",
    "6. **Education and Certification Analysis:**  \n",
    "   - Does the resume meet educational requirements?  \n",
    "   - Highlight missing certifications and suggest relevant ones.  \n",
    "\n",
    "7. **Soft Skills Analysis:**  \n",
    "   - Compare soft skills in the job description and resume.  \n",
    "\n",
    "8. **Suggestions for Framing Projects and Achievements:**  \n",
    "   - Feedback on how to highlight accomplishments better.  \n",
    "\n",
    "9. **Industry Alignment:**  \n",
    "   - Assess whether the applicant’s experience aligns with the industry or domain.  \n",
    "\n",
    "10. **Writing Style Feedback:**  \n",
    "    - Evaluate the professionalism and relevance of the resume’s tone and structure.  \n",
    "\n",
    "11. **Custom Recommendations:**  \n",
    "    - Provide specific next steps for improvement.  \n",
    "'''"
   ]
  },
  {
   "cell_type": "code",
   "execution_count": 7,
   "metadata": {},
   "outputs": [],
   "source": [
    "\n",
    "chat_prompt=PromptTemplate(input_variables=[\"job_description\",\"resume\"],template=prompt)"
   ]
  },
  {
   "cell_type": "code",
   "execution_count": 10,
   "metadata": {},
   "outputs": [],
   "source": [
    "from langchain.chains import LLMChain"
   ]
  },
  {
   "cell_type": "code",
   "execution_count": 11,
   "metadata": {},
   "outputs": [
    {
     "name": "stderr",
     "output_type": "stream",
     "text": [
      "/var/folders/31/89jw95455fj41z6k9_dst1k80000gn/T/ipykernel_91697/712001021.py:1: LangChainDeprecationWarning: The class `LLMChain` was deprecated in LangChain 0.1.17 and will be removed in 1.0. Use :meth:`~RunnableSequence, e.g., `prompt | llm`` instead.\n",
      "  chain = LLMChain(llm=llm, prompt=chat_prompt)\n"
     ]
    }
   ],
   "source": [
    "chain = LLMChain(llm=llm, prompt=chat_prompt)"
   ]
  },
  {
   "cell_type": "code",
   "execution_count": 12,
   "metadata": {},
   "outputs": [
    {
     "name": "stderr",
     "output_type": "stream",
     "text": [
      "/var/folders/31/89jw95455fj41z6k9_dst1k80000gn/T/ipykernel_91697/2824563097.py:1: LangChainDeprecationWarning: The method `Chain.run` was deprecated in langchain 0.1.0 and will be removed in 1.0. Use :meth:`~invoke` instead.\n",
      "  response = chain.run({\"job_description\": job_description, \"resume\": resume})\n"
     ]
    },
    {
     "name": "stdout",
     "output_type": "stream",
     "text": [
      "### Feedback on Resume and Job Description Alignment\n",
      "\n",
      "**1. Percentage Match:**\n",
      "\n",
      "- Based on the provided job description and resume, the percentage match is approximately 65%.\n",
      "\n",
      "**2. Relevant Skills:**\n",
      "\n",
      "- Python\n",
      "- Machine learning libraries (e.g., TensorFlow, PyTorch, Scikit-learn)\n",
      "- SQL and Postgres\n",
      "- Recommendation engines\n",
      "- Clustering and community detection\n",
      "- Version control systems like Git\n",
      "- Analytical and problem-solving skills\n",
      "- Communication and collaboration abilities\n",
      "\n",
      "**3. Missing Keywords or Skills:**\n",
      "\n",
      "- **High Importance:**\n",
      "  - Experience with Graph DB (specifically Neo4J and cypher query language)\n",
      "  - Knowledge of large-scale data handling and optimization techniques\n",
      "  - Experience with Improving models with RLHF\n",
      "- **Medium Importance:**\n",
      "  - Familiarity with prompt engineering and working with large language models (LLMs)\n",
      "  - Experience with cloud platforms (e.g., AWS) for model deployment and data storage\n",
      "\n",
      "**4. Role Alignment:**\n",
      "\n",
      "- The applicant's experience aligns well with several key responsibilities of the role, including:\n",
      "  - Designing and implementing machine learning models and algorithms\n",
      "  - Conducting data analysis and identifying trends for model improvement\n",
      "  - Collaborating with cross-functional teams to build and integrate end-to-end machine learning systems\n",
      "- However, the resume lacks specific experience in building and deploying recommendation engines.\n",
      "\n",
      "**5. Experience Matching:**\n",
      "\n",
      "- The job description does not specify required years of experience.\n",
      "- The applicant has limited experience in the machine learning industry, with their projects primarily focusing on academic research.\n",
      "\n",
      "**6. Education and Certification Analysis:**\n",
      "\n",
      "- The applicant meets the educational requirements of a Bachelor's or Master's degree in Computer Science, Data Science, or a related field.\n",
      "- No relevant certifications are mentioned in the resume.\n",
      "\n",
      "**7. Soft Skills Analysis:**\n",
      "\n",
      "- **Strong Soft Skills:**\n",
      "  - Analytical and problem-solving skills\n",
      "  - Communication and collaboration abilities\n",
      "- **Missing Soft Skills:**\n",
      "  - Excellent communication and presentation skills (not explicitly mentioned in the resume)\n",
      "\n",
      "**8. Suggestions for Framing Projects and Achievements:**\n",
      "\n",
      "- **AI-Powered Blog Writer with YouTube Transcript Integration**:\n",
      "  - Emphasize the project's ability to automate blog creation by leveraging cutting-edge AI tools.\n",
      "  - Provide specific metrics or examples to demonstrate the quality and efficiency of the generated content.\n",
      "- **AI-Powered Interactive SQL Database Assistant**:\n",
      "  - Highlight the user-friendly interface and the system's ability to make database interactions more intuitive.\n",
      "  - Showcase the effectiveness of the chatbot in handling complex SQL queries.\n",
      "- **Customer Churn Prediction Using Deep Learning and Streamlit**:\n",
      "  - Quantify the model's accuracy and explain the process of data preprocessing and model training.\n",
      "  - Describe how the system can help businesses identify and prevent customer churn.\n",
      "- **Kyphosis Prediction Using Decision Tree and Random Forest Models**:\n",
      "  - Explain the significance of kyphosis prediction in the medical field.\n",
      "  - Provide clear metrics and comparisons to demonstrate the effectiveness of the developed models.\n",
      "\n",
      "**9. Industry Alignment:**\n",
      "\n",
      "- The applicant's experience aligns with the AI/ML industry, but they may need to gain more specific experience in building and deploying recommendation engines.\n",
      "\n",
      "**10. Writing Style Feedback:**\n",
      "\n",
      "- The resume is well-structured and easy to read.\n",
      "- The tone is professional and relevant to the job description.\n",
      "\n",
      "**11. Custom Recommendations:**\n",
      "\n",
      "- **Gain Experience in Recommendation Engines**:\n",
      "  - Consider contributing to open-source projects or taking online courses to enhance skills in building and deploying recommendation engines.\n",
      "- **Acquire Relevant Certifications**:\n",
      "  - Obtain industry-recognized certifications such as the AWS Certified Machine Learning Specialty to demonstrate proficiency in AI/ML technologies.\n",
      "- **Develop Communication Skills**:\n",
      "  - Practice presenting technical concepts clearly and effectively to improve communication skills for potential job interviews.\n"
     ]
    }
   ],
   "source": [
    "response = chain.run({\"job_description\": job_description, \"resume\": resume})\n",
    "print(response)"
   ]
  },
  {
   "cell_type": "code",
   "execution_count": null,
   "metadata": {},
   "outputs": [],
   "source": []
  }
 ],
 "metadata": {
  "kernelspec": {
   "display_name": "Langchain",
   "language": "python",
   "name": "python3"
  },
  "language_info": {
   "codemirror_mode": {
    "name": "ipython",
    "version": 3
   },
   "file_extension": ".py",
   "mimetype": "text/x-python",
   "name": "python",
   "nbconvert_exporter": "python",
   "pygments_lexer": "ipython3",
   "version": "3.12.0"
  }
 },
 "nbformat": 4,
 "nbformat_minor": 2
}
